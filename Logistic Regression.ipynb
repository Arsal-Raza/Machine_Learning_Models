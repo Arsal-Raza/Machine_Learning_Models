{
 "cells": [
  {
   "cell_type": "markdown",
   "id": "347035d9-16e5-4867-afed-447ad4970559",
   "metadata": {},
   "source": [
    "### Logistic Regression hands-on exercise"
   ]
  },
  {
   "cell_type": "markdown",
   "id": "c3420df4-34f2-4173-9126-35a32f349949",
   "metadata": {},
   "source": [
    "### Logistic Regression\n",
    "#### Logistic Regression is a fundamental machine learning algorithm used for binary classification tasks, where the goal is to predict one of two possible outcomes, often referred to as the positive class and the negative class. Despite its name, logistic regression is used for classification, not regression.\n"
   ]
  },
  {
   "cell_type": "markdown",
   "id": "537cc9ca-f6c0-4fa2-9a05-bf8679ed19e2",
   "metadata": {},
   "source": [
    "#### In this exercise we will use iris dataset and see what is the probability of outcome specie is \"virginica\" or not."
   ]
  },
  {
   "cell_type": "code",
   "execution_count": 1,
   "id": "0be14c14-03fd-49b0-909b-a0601cb3a97e",
   "metadata": {},
   "outputs": [],
   "source": [
    "import pandas as pd\n",
    "import numpy as np\n",
    "import matplotlib.pyplot as plt\n",
    "import seaborn as sns"
   ]
  },
  {
   "cell_type": "markdown",
   "id": "87bcf46a-015f-4cce-97cb-a71e8b99c793",
   "metadata": {},
   "source": [
    "#### Lets import iris dataset from scikitlearn datasets function"
   ]
  },
  {
   "cell_type": "code",
   "execution_count": 2,
   "id": "8f757d4c-e3df-4b43-b612-0e4eb0d35ce2",
   "metadata": {},
   "outputs": [],
   "source": [
    "from sklearn import datasets"
   ]
  },
  {
   "cell_type": "code",
   "execution_count": 3,
   "id": "887b246c-f545-4738-ac2a-70fe58e27b1b",
   "metadata": {},
   "outputs": [],
   "source": [
    "iris = datasets.load_iris()"
   ]
  },
  {
   "cell_type": "code",
   "execution_count": 4,
   "id": "0c422b8b-1bf7-4d29-9a2c-00d420f68724",
   "metadata": {},
   "outputs": [
    {
     "name": "stdout",
     "output_type": "stream",
     "text": [
      "dict_keys(['data', 'target', 'frame', 'target_names', 'DESCR', 'feature_names', 'filename', 'data_module'])\n"
     ]
    }
   ],
   "source": [
    "print(iris.keys())"
   ]
  },
  {
   "cell_type": "code",
   "execution_count": 5,
   "id": "bcd12f5b-a8e0-4e82-827f-38b3c675d375",
   "metadata": {},
   "outputs": [
    {
     "name": "stdout",
     "output_type": "stream",
     "text": [
      "Feature names: ['sepal length (cm)', 'sepal width (cm)', 'petal length (cm)', 'petal width (cm)']\n"
     ]
    }
   ],
   "source": [
    "print(\"Feature names:\", iris.feature_names)"
   ]
  },
  {
   "cell_type": "code",
   "execution_count": 6,
   "id": "498e57e3-7900-4248-af8a-c6f3ac4540af",
   "metadata": {},
   "outputs": [
    {
     "name": "stdout",
     "output_type": "stream",
     "text": [
      "[[5.1 3.5 1.4 0.2]\n",
      " [4.9 3.  1.4 0.2]\n",
      " [4.7 3.2 1.3 0.2]\n",
      " [4.6 3.1 1.5 0.2]\n",
      " [5.  3.6 1.4 0.2]]\n"
     ]
    }
   ],
   "source": [
    "first_five_rows = iris.data[0:5,]\n",
    "print(first_five_rows)"
   ]
  },
  {
   "cell_type": "code",
   "execution_count": 7,
   "id": "cea91eab-a7c4-4c7a-a562-4f172a7539fb",
   "metadata": {},
   "outputs": [
    {
     "name": "stdout",
     "output_type": "stream",
     "text": [
      "Target names: ['setosa' 'versicolor' 'virginica']\n"
     ]
    }
   ],
   "source": [
    "print(\"Target names:\", iris.target_names)"
   ]
  },
  {
   "cell_type": "code",
   "execution_count": 8,
   "id": "848e9dbb-7f51-444b-86b4-7684f1a3082b",
   "metadata": {},
   "outputs": [
    {
     "name": "stdout",
     "output_type": "stream",
     "text": [
      "[0 0 0 0 0 0 0 0 0 0 0 0 0 0 0 0 0 0 0 0 0 0 0 0 0 0 0 0 0 0 0 0 0 0 0 0 0\n",
      " 0 0 0 0 0 0 0 0 0 0 0 0 0 1 1 1 1 1 1 1 1 1 1 1 1 1 1 1 1 1 1 1 1 1 1 1 1\n",
      " 1 1 1 1 1 1 1 1 1 1 1 1 1 1 1 1 1 1 1 1 1 1 1 1 1 1 2 2 2 2 2 2 2 2 2 2 2\n",
      " 2 2 2 2 2 2 2 2 2 2 2 2 2 2 2 2 2 2 2 2 2 2 2 2 2 2 2 2 2 2 2 2 2 2 2 2 2\n",
      " 2 2]\n"
     ]
    }
   ],
   "source": [
    "print(iris.target)"
   ]
  },
  {
   "cell_type": "code",
   "execution_count": 9,
   "id": "0150c992-098c-4f80-9a4d-25549d7141ba",
   "metadata": {},
   "outputs": [
    {
     "name": "stdout",
     "output_type": "stream",
     "text": [
      ".. _iris_dataset:\n",
      "\n",
      "Iris plants dataset\n",
      "--------------------\n",
      "\n",
      "**Data Set Characteristics:**\n",
      "\n",
      "    :Number of Instances: 150 (50 in each of three classes)\n",
      "    :Number of Attributes: 4 numeric, predictive attributes and the class\n",
      "    :Attribute Information:\n",
      "        - sepal length in cm\n",
      "        - sepal width in cm\n",
      "        - petal length in cm\n",
      "        - petal width in cm\n",
      "        - class:\n",
      "                - Iris-Setosa\n",
      "                - Iris-Versicolour\n",
      "                - Iris-Virginica\n",
      "                \n",
      "    :Summary Statistics:\n",
      "\n",
      "    ============== ==== ==== ======= ===== ====================\n",
      "                    Min  Max   Mean    SD   Class Correlation\n",
      "    ============== ==== ==== ======= ===== ====================\n",
      "    sepal length:   4.3  7.9   5.84   0.83    0.7826\n",
      "    sepal width:    2.0  4.4   3.05   0.43   -0.4194\n",
      "    petal length:   1.0  6.9   3.76   1.76    0.9490  (high!)\n",
      "    petal width:    0.1  2.5   1.20   0.76    0.9565  (high!)\n",
      "    ============== ==== ==== ======= ===== ====================\n",
      "\n",
      "    :Missing Attribute Values: None\n",
      "    :Class Distribution: 33.3% for each of 3 classes.\n",
      "    :Creator: R.A. Fisher\n",
      "    :Donor: Michael Marshall (MARSHALL%PLU@io.arc.nasa.gov)\n",
      "    :Date: July, 1988\n",
      "\n",
      "The famous Iris database, first used by Sir R.A. Fisher. The dataset is taken\n",
      "from Fisher's paper. Note that it's the same as in R, but not as in the UCI\n",
      "Machine Learning Repository, which has two wrong data points.\n",
      "\n",
      "This is perhaps the best known database to be found in the\n",
      "pattern recognition literature.  Fisher's paper is a classic in the field and\n",
      "is referenced frequently to this day.  (See Duda & Hart, for example.)  The\n",
      "data set contains 3 classes of 50 instances each, where each class refers to a\n",
      "type of iris plant.  One class is linearly separable from the other 2; the\n",
      "latter are NOT linearly separable from each other.\n",
      "\n",
      ".. topic:: References\n",
      "\n",
      "   - Fisher, R.A. \"The use of multiple measurements in taxonomic problems\"\n",
      "     Annual Eugenics, 7, Part II, 179-188 (1936); also in \"Contributions to\n",
      "     Mathematical Statistics\" (John Wiley, NY, 1950).\n",
      "   - Duda, R.O., & Hart, P.E. (1973) Pattern Classification and Scene Analysis.\n",
      "     (Q327.D83) John Wiley & Sons.  ISBN 0-471-22361-1.  See page 218.\n",
      "   - Dasarathy, B.V. (1980) \"Nosing Around the Neighborhood: A New System\n",
      "     Structure and Classification Rule for Recognition in Partially Exposed\n",
      "     Environments\".  IEEE Transactions on Pattern Analysis and Machine\n",
      "     Intelligence, Vol. PAMI-2, No. 1, 67-71.\n",
      "   - Gates, G.W. (1972) \"The Reduced Nearest Neighbor Rule\".  IEEE Transactions\n",
      "     on Information Theory, May 1972, 431-433.\n",
      "   - See also: 1988 MLC Proceedings, 54-64.  Cheeseman et al\"s AUTOCLASS II\n",
      "     conceptual clustering system finds 3 classes in the data.\n",
      "   - Many, many more ...\n"
     ]
    }
   ],
   "source": [
    "print(iris.DESCR)"
   ]
  },
  {
   "cell_type": "code",
   "execution_count": 10,
   "id": "27ab48ba-20f7-40ff-ab5b-909068232db5",
   "metadata": {},
   "outputs": [],
   "source": [
    "# Create a Pandas DataFrame from the dataset\n",
    "iris_df = pd.DataFrame(data=iris.data, columns=iris.feature_names)"
   ]
  },
  {
   "cell_type": "code",
   "execution_count": 11,
   "id": "92ee04b2-fa8d-4f84-9395-a3ca248e98a0",
   "metadata": {},
   "outputs": [],
   "source": [
    "correlation_matrix = iris_df.corr()"
   ]
  },
  {
   "cell_type": "code",
   "execution_count": 12,
   "id": "f124c7e4-b765-4709-b5e0-31043d9cdc4b",
   "metadata": {},
   "outputs": [
    {
     "data": {
      "image/png": "[encoded data removed]",
      "text/plain": [
       "<Figure size 800x600 with 2 Axes>"
      ]
     },
     "metadata": {},
     "output_type": "display_data"
    }
   ],
   "source": [
    "# Create a heatmap to visualize the correlation matrix\n",
    "plt.figure(figsize=(8, 6))\n",
    "sns.heatmap(correlation_matrix, annot=True, cmap=\"coolwarm\", linewidths=0.5)\n",
    "plt.title(\"Correlation Matrix of Iris Dataset\")\n",
    "plt.show()"
   ]
  },
  {
   "cell_type": "markdown",
   "id": "eb7f5580-be3e-47ee-8f49-34d52b2f7186",
   "metadata": {},
   "source": [
    "#### Correlation matrix shows positive relation which is good."
   ]
  },
  {
   "cell_type": "code",
   "execution_count": 13,
   "id": "22065644-3051-4d06-8385-a595a178eda7",
   "metadata": {},
   "outputs": [],
   "source": [
    "#lets split our data...\n",
    "from sklearn.model_selection import train_test_split\n",
    "\n",
    "X = iris.data\n",
    "y = iris.target\n",
    "\n",
    "# Encode the target variable: 1 for \"virginica\" and 0 for other or \"not virginica\"\n",
    "y_binary = np.where(y == 2, 1, 0)\n",
    "\n",
    "# Split the data into training and testing sets (70% training data and 30% test data)\n",
    "X_train, X_test, y_train, y_test = train_test_split(X, y_binary, test_size=0.3, random_state=4)"
   ]
  },
  {
   "cell_type": "code",
   "execution_count": 14,
   "id": "198e01c0-7c8d-4229-8beb-73328c7b4d72",
   "metadata": {},
   "outputs": [],
   "source": [
    "from sklearn.linear_model import LogisticRegression"
   ]
  },
  {
   "cell_type": "code",
   "execution_count": 15,
   "id": "09772423-07cd-4c69-97e9-b323697a8655",
   "metadata": {},
   "outputs": [],
   "source": [
    "classifier = LogisticRegression(C=1.0,solver='liblinear')\n",
    "# i choose the value of c as random in float and solver as liblinear as our dataset is small and binary classified."
   ]
  },
  {
   "cell_type": "code",
   "execution_count": 16,
   "id": "132e416b-339b-4478-b57b-65dcb97c4095",
   "metadata": {},
   "outputs": [
    {
     "data": {
      "text/html": [
       "<style>#sk-container-id-1 {color: black;}#sk-container-id-1 pre{padding: 0;}#sk-container-id-1 div.sk-toggleable {background-color: white;}#sk-container-id-1 label.sk-toggleable__label {cursor: pointer;display: block;width: 100%;margin-bottom: 0;padding: 0.3em;box-sizing: border-box;text-align: center;}#sk-container-id-1 label.sk-toggleable__label-arrow:before {content: \"▸\";float: left;margin-right: 0.25em;color: #696969;}#sk-container-id-1 label.sk-toggleable__label-arrow:hover:before {color: black;}#sk-container-id-1 div.sk-estimator:hover label.sk-toggleable__label-arrow:before {color: black;}#sk-container-id-1 div.sk-toggleable__content {max-height: 0;max-width: 0;overflow: hidden;text-align: left;background-color: #f0f8ff;}#sk-container-id-1 div.sk-toggleable__content pre {margin: 0.2em;color: black;border-radius: 0.25em;background-color: #f0f8ff;}#sk-container-id-1 input.sk-toggleable__control:checked~div.sk-toggleable__content {max-height: 200px;max-width: 100%;overflow: auto;}#sk-container-id-1 input.sk-toggleable__control:checked~label.sk-toggleable__label-arrow:before {content: \"▾\";}#sk-container-id-1 div.sk-estimator input.sk-toggleable__control:checked~label.sk-toggleable__label {background-color: #d4ebff;}#sk-container-id-1 div.sk-label input.sk-toggleable__control:checked~label.sk-toggleable__label {background-color: #d4ebff;}#sk-container-id-1 input.sk-hidden--visually {border: 0;clip: rect(1px 1px 1px 1px);clip: rect(1px, 1px, 1px, 1px);height: 1px;margin: -1px;overflow: hidden;padding: 0;position: absolute;width: 1px;}#sk-container-id-1 div.sk-estimator {font-family: monospace;background-color: #f0f8ff;border: 1px dotted black;border-radius: 0.25em;box-sizing: border-box;margin-bottom: 0.5em;}#sk-container-id-1 div.sk-estimator:hover {background-color: #d4ebff;}#sk-container-id-1 div.sk-parallel-item::after {content: \"\";width: 100%;border-bottom: 1px solid gray;flex-grow: 1;}#sk-container-id-1 div.sk-label:hover label.sk-toggleable__label {background-color: #d4ebff;}#sk-container-id-1 div.sk-serial::before {content: \"\";position: absolute;border-left: 1px solid gray;box-sizing: border-box;top: 0;bottom: 0;left: 50%;z-index: 0;}#sk-container-id-1 div.sk-serial {display: flex;flex-direction: column;align-items: center;background-color: white;padding-right: 0.2em;padding-left: 0.2em;position: relative;}#sk-container-id-1 div.sk-item {position: relative;z-index: 1;}#sk-container-id-1 div.sk-parallel {display: flex;align-items: stretch;justify-content: center;background-color: white;position: relative;}#sk-container-id-1 div.sk-item::before, #sk-container-id-1 div.sk-parallel-item::before {content: \"\";position: absolute;border-left: 1px solid gray;box-sizing: border-box;top: 0;bottom: 0;left: 50%;z-index: -1;}#sk-container-id-1 div.sk-parallel-item {display: flex;flex-direction: column;z-index: 1;position: relative;background-color: white;}#sk-container-id-1 div.sk-parallel-item:first-child::after {align-self: flex-end;width: 50%;}#sk-container-id-1 div.sk-parallel-item:last-child::after {align-self: flex-start;width: 50%;}#sk-container-id-1 div.sk-parallel-item:only-child::after {width: 0;}#sk-container-id-1 div.sk-dashed-wrapped {border: 1px dashed gray;margin: 0 0.4em 0.5em 0.4em;box-sizing: border-box;padding-bottom: 0.4em;background-color: white;}#sk-container-id-1 div.sk-label label {font-family: monospace;font-weight: bold;display: inline-block;line-height: 1.2em;}#sk-container-id-1 div.sk-label-container {text-align: center;}#sk-container-id-1 div.sk-container {/* jupyter's `normalize.less` sets `[hidden] { display: none; }` but bootstrap.min.css set `[hidden] { display: none !important; }` so we also need the `!important` here to be able to override the default hidden behavior on the sphinx rendered scikit-learn.org. See: https://github.com/scikit-learn/scikit-learn/issues/21755 */display: inline-block !important;position: relative;}#sk-container-id-1 div.sk-text-repr-fallback {display: none;}</style><div id=\"sk-container-id-1\" class=\"sk-top-container\"><div class=\"sk-text-repr-fallback\"><pre>LogisticRegression(solver=&#x27;liblinear&#x27;)</pre><b>In a Jupyter environment, please rerun this cell to show the HTML representation or trust the notebook. <br />On GitHub, the HTML representation is unable to render, please try loading this page with nbviewer.org.</b></div><div class=\"sk-container\" hidden><div class=\"sk-item\"><div class=\"sk-estimator sk-toggleable\"><input class=\"sk-toggleable__control sk-hidden--visually\" id=\"sk-estimator-id-1\" type=\"checkbox\" checked><label for=\"sk-estimator-id-1\" class=\"sk-toggleable__label sk-toggleable__label-arrow\">LogisticRegression</label><div class=\"sk-toggleable__content\"><pre>LogisticRegression(solver=&#x27;liblinear&#x27;)</pre></div></div></div></div></div>"
      ],
      "text/plain": [
       "LogisticRegression(solver='liblinear')"
      ]
     },
     "execution_count": 16,
     "metadata": {},
     "output_type": "execute_result"
    }
   ],
   "source": [
    "classifier.fit(X_train,y_train)"
   ]
  },
  {
   "cell_type": "code",
   "execution_count": 17,
   "id": "fbdedd02-6f9c-43d8-9b48-1dfaa263e84a",
   "metadata": {},
   "outputs": [
    {
     "data": {
      "text/plain": [
       "array([1, 0, 1, 1, 1, 0, 1, 0, 0, 1, 0, 0, 0, 0, 1, 0, 0, 0, 0, 1, 0, 1,\n",
       "       0, 0, 0, 0, 0, 0, 0, 1, 1, 0, 1, 0, 0, 1, 1, 0, 0, 0, 1, 0, 0, 0,\n",
       "       1])"
      ]
     },
     "execution_count": 17,
     "metadata": {},
     "output_type": "execute_result"
    }
   ],
   "source": [
    "y_hat = classifier.predict(X_test)\n",
    "y_hat"
   ]
  },
  {
   "cell_type": "code",
   "execution_count": 18,
   "id": "f98c8267-9fe4-421d-a116-a9ee56185655",
   "metadata": {},
   "outputs": [
    {
     "data": {
      "text/plain": [
       "array([[7.09659346e-02, 9.29034065e-01],\n",
       "       [9.99978604e-01, 2.13963974e-05],\n",
       "       [1.70309982e-01, 8.29690018e-01],\n",
       "       [6.88364259e-02, 9.31163574e-01],\n",
       "       [1.38407788e-01, 8.61592212e-01],\n",
       "       [6.97586286e-01, 3.02413714e-01],\n",
       "       [2.63750621e-01, 7.36249379e-01],\n",
       "       [9.99996463e-01, 3.53696057e-06],\n",
       "       [9.99960988e-01, 3.90117979e-05],\n",
       "       [4.59452983e-01, 5.40547017e-01],\n",
       "       [9.99878698e-01, 1.21302174e-04],\n",
       "       [9.99900546e-01, 9.94536960e-05],\n",
       "       [9.99915791e-01, 8.42086739e-05],\n",
       "       [6.87210671e-01, 3.12789329e-01],\n",
       "       [7.47215351e-02, 9.25278465e-01],\n",
       "       [9.99900097e-01, 9.99033666e-05],\n",
       "       [8.13941393e-01, 1.86058607e-01],\n",
       "       [9.99922699e-01, 7.73005313e-05],\n",
       "       [9.99803822e-01, 1.96178132e-04],\n",
       "       [3.63128574e-01, 6.36871426e-01],\n",
       "       [9.99962321e-01, 3.76790465e-05],\n",
       "       [1.61398495e-01, 8.38601505e-01],\n",
       "       [5.60249519e-01, 4.39750481e-01],\n",
       "       [9.99884193e-01, 1.15807233e-04],\n",
       "       [9.99847517e-01, 1.52483027e-04],\n",
       "       [9.99963600e-01, 3.64002861e-05],\n",
       "       [9.99553812e-01, 4.46188249e-04],\n",
       "       [9.99984232e-01, 1.57680197e-05],\n",
       "       [9.99953386e-01, 4.66139593e-05],\n",
       "       [1.11529824e-01, 8.88470176e-01],\n",
       "       [4.95797527e-01, 5.04202473e-01],\n",
       "       [9.99885772e-01, 1.14227635e-04],\n",
       "       [9.91021656e-02, 9.00897834e-01],\n",
       "       [9.99909131e-01, 9.08688154e-05],\n",
       "       [9.10830636e-01, 8.91693639e-02],\n",
       "       [6.85885496e-02, 9.31411450e-01],\n",
       "       [2.85332430e-01, 7.14667570e-01],\n",
       "       [8.77137607e-01, 1.22862393e-01],\n",
       "       [8.57491968e-01, 1.42508032e-01],\n",
       "       [9.99964095e-01, 3.59049057e-05],\n",
       "       [1.43241118e-01, 8.56758882e-01],\n",
       "       [9.99942880e-01, 5.71198490e-05],\n",
       "       [9.37860548e-01, 6.21394519e-02],\n",
       "       [9.99980036e-01, 1.99640650e-05],\n",
       "       [5.66724953e-02, 9.43327505e-01]])"
      ]
     },
     "execution_count": 18,
     "metadata": {},
     "output_type": "execute_result"
    }
   ],
   "source": [
    "#lets look at the probability of predicted result\n",
    "y_prob = classifier.predict_proba(X_test)\n",
    "y_prob"
   ]
  },
  {
   "cell_type": "markdown",
   "id": "2d14c7b2-ba07-49c9-a03e-d6dffefa555f",
   "metadata": {},
   "source": [
    "### Lets look at accuracy,classification_report and confusion_matrix of our model"
   ]
  },
  {
   "cell_type": "code",
   "execution_count": 19,
   "id": "9720e81c-75cd-4274-8a72-a1706e416b0d",
   "metadata": {},
   "outputs": [
    {
     "name": "stdout",
     "output_type": "stream",
     "text": [
      "Accuracy: 0.9555555555555556\n"
     ]
    }
   ],
   "source": [
    "from sklearn.metrics import accuracy_score, classification_report, confusion_matrix\n",
    "\n",
    "# Calculate accuracy\n",
    "accuracy = accuracy_score(y_test, y_hat)\n",
    "print(\"Accuracy:\", accuracy)"
   ]
  },
  {
   "cell_type": "markdown",
   "id": "ac739f21-90f3-49f1-ad12-0f03dee13023",
   "metadata": {},
   "source": [
    "#### our model gives us 95% accuracy which is very good."
   ]
  },
  {
   "cell_type": "code",
   "execution_count": 20,
   "id": "372d821a-6ffc-4b72-b66f-7c02d564928b",
   "metadata": {},
   "outputs": [
    {
     "name": "stdout",
     "output_type": "stream",
     "text": [
      "Classification Report:\n",
      "               precision    recall  f1-score   support\n",
      "\n",
      "           0       1.00      0.94      0.97        31\n",
      "           1       0.88      1.00      0.93        14\n",
      "\n",
      "    accuracy                           0.96        45\n",
      "   macro avg       0.94      0.97      0.95        45\n",
      "weighted avg       0.96      0.96      0.96        45\n",
      "\n"
     ]
    }
   ],
   "source": [
    "# Lets look at classification report\n",
    "report = classification_report(y_test, y_hat)\n",
    "print(\"Classification Report:\\n\", report)"
   ]
  },
  {
   "cell_type": "code",
   "execution_count": 21,
   "id": "f92468bd-095e-407a-a11d-21bf953d8468",
   "metadata": {},
   "outputs": [
    {
     "name": "stdout",
     "output_type": "stream",
     "text": [
      "Confusion Matrix:\n",
      " [[29  2]\n",
      " [ 0 14]]\n"
     ]
    },
    {
     "data": {
      "image/png": "[encoded data removed]",
      "text/plain": [
       "<Figure size 800x600 with 2 Axes>"
      ]
     },
     "metadata": {},
     "output_type": "display_data"
    }
   ],
   "source": [
    "# Lets generate a confusion matrix\n",
    "conf_matrix = confusion_matrix(y_test, y_hat)\n",
    "print(\"Confusion Matrix:\\n\", conf_matrix)\n",
    "\n",
    "plt.figure(figsize=(8, 6))\n",
    "sns.heatmap(conf_matrix, annot=True, fmt=\"d\", cmap=\"Blues\")\n",
    "plt.xlabel(\"Predicted\")\n",
    "plt.ylabel(\"True\")\n",
    "plt.title(\"Confusion Matrix\")\n",
    "plt.show()"
   ]
  },
  {
   "cell_type": "markdown",
   "id": "3445f367-fa22-44f4-8a97-af77cdbc5020",
   "metadata": {},
   "source": [
    "### Confusion matrix shows:"
   ]
  },
  {
   "cell_type": "markdown",
   "id": "4881a479-82f7-4578-9386-05db08584592",
   "metadata": {},
   "source": [
    "### Class 1 (virginica) seems to have been predicted correctly for all samples.\n",
    "### Class 0 (not virginica) had 2 misclassifications, with 29 correct predictions."
   ]
  },
  {
   "cell_type": "markdown",
   "id": "04675d5c-f408-4403-8f7d-7a39feb000ee",
   "metadata": {},
   "source": [
    "##### Now, let's try log loss for evaluation. Log loss( Logarithmic loss) measures the performance of a classifier where the predicted output is a probability value between 0 and 1. A lower log loss value indicates better performance, where 0 represents perfect predictions. A higher log loss value suggests that the predicted probabilities are less accurate.."
   ]
  },
  {
   "cell_type": "code",
   "execution_count": 22,
   "id": "b3d89242-9fc9-4de5-a663-2c9ff68f2ff1",
   "metadata": {},
   "outputs": [
    {
     "data": {
      "text/plain": [
       "0.1476070855474746"
      ]
     },
     "execution_count": 22,
     "metadata": {},
     "output_type": "execute_result"
    }
   ],
   "source": [
    "from sklearn.metrics import log_loss\n",
    "log_loss(y_test, y_prob)"
   ]
  },
  {
   "cell_type": "markdown",
   "id": "f6ec472d-c52f-4af8-a320-f4d930d8198e",
   "metadata": {},
   "source": [
    "### Can we improve our model !!! Lets play with parameters of logistic regression model ..."
   ]
  },
  {
   "cell_type": "markdown",
   "id": "f342536c-c518-449d-93cc-2ba11cf0ad0e",
   "metadata": {},
   "source": [
    "### Lets try to build Logistic Regression model again for the same dataset, but this time,we use different __solver__ to see if we can improve accuracy and logloss value"
   ]
  },
  {
   "cell_type": "code",
   "execution_count": 23,
   "id": "f546064f-477f-440f-80b5-5b1daa5929dd",
   "metadata": {},
   "outputs": [
    {
     "name": "stderr",
     "output_type": "stream",
     "text": [
      "C:\\Users\\Dell\\AppData\\Local\\Programs\\Python\\Python311\\Lib\\site-packages\\sklearn\\linear_model\\_sag.py:350: ConvergenceWarning: The max_iter was reached which means the coef_ did not converge\n",
      "  warnings.warn(\n"
     ]
    }
   ],
   "source": [
    "classifier2 = LogisticRegression(C=1.0,solver='sag', max_iter=200).fit(X_train,y_train)\n",
    "y_hat2 = classifier2.predict(X_test)"
   ]
  },
  {
   "cell_type": "code",
   "execution_count": 24,
   "id": "fe10cd64-874d-4638-9f95-86bca8187c9f",
   "metadata": {},
   "outputs": [
    {
     "name": "stdout",
     "output_type": "stream",
     "text": [
      "LogLoss: : 0.12\n"
     ]
    }
   ],
   "source": [
    "y_prob2 = classifier2.predict_proba(X_test)\n",
    "print (\"LogLoss: : %.2f\" % log_loss(y_test, y_prob2))"
   ]
  },
  {
   "cell_type": "code",
   "execution_count": 25,
   "id": "c2e27ec8-a48e-45d8-843b-f8ae61a94eb5",
   "metadata": {},
   "outputs": [
    {
     "name": "stdout",
     "output_type": "stream",
     "text": [
      "Accuracy: 0.9777777777777777\n"
     ]
    }
   ],
   "source": [
    "# Calculate accuracy\n",
    "accuracy = accuracy_score(y_test, y_hat2)\n",
    "print(\"Accuracy:\", accuracy)"
   ]
  },
  {
   "cell_type": "markdown",
   "id": "060034e4-5096-4560-ada5-fa61307cdd3a",
   "metadata": {},
   "source": [
    "## As we can see accuracy improved by using different solver or playing with parameters of model."
   ]
  }
 ],
 "metadata": {
  "kernelspec": {
   "display_name": "Python 3 (ipykernel)",
   "language": "python",
   "name": "python3"
  },
  "language_info": {
   "codemirror_mode": {
    "name": "ipython",
    "version": 3
   },
   "file_extension": ".py",
   "mimetype": "text/x-python",
   "name": "python",
   "nbconvert_exporter": "python",
   "pygments_lexer": "ipython3",
   "version": "3.11.5"
  }
 },
 "nbformat": 4,
 "nbformat_minor": 5
}
